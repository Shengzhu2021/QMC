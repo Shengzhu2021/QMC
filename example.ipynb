{
 "cells": [
  {
   "cell_type": "code",
   "execution_count": 33,
   "metadata": {},
   "outputs": [],
   "source": [
    "from quadratic_monte_carlo import *\n",
    "from state import *\n",
    "import corner"
   ]
  },
  {
   "cell_type": "code",
   "execution_count": 34,
   "metadata": {},
   "outputs": [],
   "source": [
    "def agreement_test(mu1, mu2, sig1, sig2):\n",
    "    dmu = np.abs(mu1-mu2)\n",
    "    return dmu/(2*np.sqrt(sig1*sig1+sig2*sig2))"
   ]
  },
  {
   "cell_type": "markdown",
   "metadata": {},
   "source": [
    "Example 1: The Harmonic Oscillator"
   ]
  },
  {
   "cell_type": "code",
   "execution_count": 35,
   "metadata": {},
   "outputs": [],
   "source": [
    "# e.g.1: harmonic oscillator potential\n",
    "\n",
    "# define a log probability function\n",
    "def harmonic_lnp(params):\n",
    "    n = len(params)\n",
    "    v = 0\n",
    "    for j in range(n):\n",
    "        v += params[j] * params[j]\n",
    "    return -(v / 0.01) "
   ]
  },
  {
   "cell_type": "code",
   "execution_count": 36,
   "metadata": {},
   "outputs": [],
   "source": [
    "# define a QMCState that is a 6-dimensional harmonic oscillator\n",
    "harmonic_state = QMCState(6, harmonic_lnp, np.zeros(6)) # setup the QMCState\n",
    "\n",
    "# setup simulation parameters\n",
    "ndim = 6  # number of parameters in the model\n",
    "nwalkers = 20  # number of MCMC walkers\n",
    "nburn = 10000  # \"burn-in\" period to let chains stabilize\n",
    "nsteps = 100000  # number of MCMC steps to take\n",
    "\n",
    "# setup starting guesses randomly\n",
    "sg = np.random.random((nwalkers, ndim))\n",
    "starting_guesses = set_up_starting_guesses(harmonic_state, sg)\n",
    "\n",
    "# setup sampler and run mcmc\n",
    "sampler = QMCSampler(nwalkers, harmonic_state, gaussian=True)\n",
    "sampler.run_qmc(starting_guesses, nsteps)\n",
    "\n",
    "# get the trace after the chain stablizes\n",
    "qmc_harmonic_trace = sampler.chain[nburn:, :]"
   ]
  },
  {
   "cell_type": "code",
   "execution_count": 37,
   "metadata": {},
   "outputs": [
    {
     "name": "stdout",
     "output_type": "stream",
     "text": [
      "(90000, 20)\n"
     ]
    }
   ],
   "source": [
    "print(np.shape(qmc_harmonic_trace))"
   ]
  },
  {
   "cell_type": "code",
   "execution_count": 38,
   "metadata": {},
   "outputs": [
    {
     "name": "stdout",
     "output_type": "stream",
     "text": [
      "the average energy is: 0.030043818732604352 +- 1.2935948790128317e-05\n"
     ]
    }
   ],
   "source": [
    "# calculate the average potential energy and the associated error\n",
    "v_arr = []\n",
    "\n",
    "for i in range(90000):\n",
    "    for j in range(20):\n",
    "        v = -qmc_harmonic_trace[i, j].lnL*0.01\n",
    "        v_arr.append(v)\n",
    "avg_v = np.mean(v_arr)\n",
    "err = np.std(v_arr)/np.sqrt(90000*20)\n",
    "print(f'the average energy is: {avg_v} +- {err}')"
   ]
  },
  {
   "cell_type": "code",
   "execution_count": 39,
   "metadata": {},
   "outputs": [
    {
     "name": "stdout",
     "output_type": "stream",
     "text": [
      "the agreement test value is 0.22364588207612443\n"
     ]
    }
   ],
   "source": [
    "# perform agreement test w/ c++ code\n",
    "mu_harmonic = 0.03003602\n",
    "sig_harmonic = 0.00001169 \n",
    "print(f'the agreement test value is {agreement_test(avg_v, mu_harmonic, err, sig_harmonic)}')"
   ]
  },
  {
   "cell_type": "markdown",
   "metadata": {},
   "source": [
    "Example 2: The Ring Potential"
   ]
  },
  {
   "cell_type": "code",
   "execution_count": 40,
   "metadata": {},
   "outputs": [],
   "source": [
    "# e.g.2: ring potential\n",
    "\n",
    "# define a 6-dimensional ring potential function\n",
    "def ring_lnp(params):\n",
    "    rho = np.sqrt(params[0] ** 2 + params[1] ** 2)\n",
    "    v = pow(12 * (rho - 1), 12)\n",
    "    i = 2\n",
    "    while i < 6:\n",
    "        v += pow(12 * params[i], 12)\n",
    "        i += 1\n",
    "    v -= 0.01 * params[0]\n",
    "    return -v / 0.01"
   ]
  },
  {
   "cell_type": "code",
   "execution_count": 54,
   "metadata": {},
   "outputs": [],
   "source": [
    "# define a QMCState that is a 6-dimensional ring potential\n",
    "ring_state = QMCState(6, ring_lnp, np.zeros(6)) # setup the QMCState\n",
    "\n",
    "# setup simulation parameters\n",
    "ndim = 6  # number of parameters in the model\n",
    "nwalkers = 20  # number of MCMC walkers\n",
    "nburn = 10000  # \"burn-in\" period to let chains stabilize\n",
    "nsteps = 100000  # number of MCMC steps to take\n",
    "\n",
    "# setup starting guesses randomly\n",
    "sg = np.random.random((nwalkers, ndim))\n",
    "starting_guesses = set_up_starting_guesses(ring_state, sg)\n",
    "\n",
    "# setup sampler and run mcmc\n",
    "sampler = QMCSampler(nwalkers, ring_state, gaussian=True)\n",
    "sampler.run_qmc(starting_guesses, nsteps)\n",
    "\n",
    "# get the trace after the chain stablizes\n",
    "qmc_ring_trace = sampler.chain[nburn:, :]"
   ]
  },
  {
   "cell_type": "code",
   "execution_count": 55,
   "metadata": {},
   "outputs": [
    {
     "name": "stdout",
     "output_type": "stream",
     "text": [
      "the average energy is: -0.0003338777718658973 +- 6.702319402848681e-06\n"
     ]
    }
   ],
   "source": [
    "# calculate the average potential energy and the associated error\n",
    "v_arr = []\n",
    "\n",
    "for i in range(90000):\n",
    "    for j in range(20):\n",
    "        v = -qmc_ring_trace[i, j].lnL*0.01\n",
    "        v_arr.append(v)\n",
    "avg_v = np.mean(v_arr)\n",
    "err = np.std(v_arr)/np.sqrt(90000*20)\n",
    "print(f'the average energy is: {avg_v} +- {err}')"
   ]
  },
  {
   "cell_type": "code",
   "execution_count": 56,
   "metadata": {},
   "outputs": [
    {
     "name": "stdout",
     "output_type": "stream",
     "text": [
      "the agreement test value is 0.285813075871617\n"
     ]
    }
   ],
   "source": [
    "# perform agreement test w/ c++ code\n",
    "mu_ring = -0.00030795\n",
    "sig_ring = 0.00004486 \n",
    "print(f'the agreement test value is {agreement_test(avg_v, mu_ring, err, sig_ring)}')"
   ]
  },
  {
   "cell_type": "markdown",
   "metadata": {},
   "source": [
    "Example 3: The Rosenbrock Function"
   ]
  },
  {
   "cell_type": "code",
   "execution_count": 68,
   "metadata": {},
   "outputs": [],
   "source": [
    "# e.g.2 rosenbrock function\n",
    "\n",
    "# define a 2-d rodenbrock function\n",
    "def rosenbrock_lnp(params):\n",
    "    x1, x2 = params\n",
    "    lnL = ((-100 * pow((x2 - pow(x1, 2)), 2)) - pow((1 - x1), 2)) / 20\n",
    "    return lnL\n"
   ]
  },
  {
   "cell_type": "code",
   "execution_count": 69,
   "metadata": {},
   "outputs": [],
   "source": [
    "# define a QMCState that is a 2-dimensional rosenbrock function\n",
    "rosenbrock_state = QMCState(2, rosenbrock_lnp, np.zeros(2)) # setup the QMCState\n",
    "\n",
    "# setup simulation parameters\n",
    "ndim = 2  # number of parameters in the model\n",
    "nwalkers = 5  # number of MCMC walkers\n",
    "nburn = 10000  # \"burn-in\" period to let chains stabilize\n",
    "nsteps = 100000  # number of MCMC steps to take\n",
    "\n",
    "# setup starting guesses randomly\n",
    "sg = np.random.random((nwalkers, ndim))\n",
    "starting_guesses = set_up_starting_guesses(rosenbrock_state, sg)\n",
    "\n",
    "# setup sampler and run mcmc\n",
    "sampler = QMCSampler(nwalkers, rosenbrock_state, gaussian=True)\n",
    "sampler.run_qmc(starting_guesses, nsteps)\n",
    "\n",
    "# get the trace after the chain stablizes\n",
    "qmc_rosenbrock_trace = sampler.chain[nburn:, :]"
   ]
  },
  {
   "cell_type": "code",
   "execution_count": 70,
   "metadata": {},
   "outputs": [
    {
     "name": "stdout",
     "output_type": "stream",
     "text": [
      "(90000, 5)\n"
     ]
    }
   ],
   "source": [
    "print(np.shape(qmc_rosenbrock_trace))"
   ]
  },
  {
   "cell_type": "code",
   "execution_count": 71,
   "metadata": {},
   "outputs": [
    {
     "name": "stdout",
     "output_type": "stream",
     "text": [
      "the average energy is: -1.0067992003207207 +- 0.0014650635793301402\n"
     ]
    }
   ],
   "source": [
    "# calculate the average potential energy and the associated error\n",
    "v_arr = []\n",
    "\n",
    "for i in range(90000):\n",
    "    for j in range(5):\n",
    "        v = qmc_rosenbrock_trace[i, j].lnL\n",
    "        v_arr.append(v)\n",
    "avg_v = np.mean(v_arr)\n",
    "err = np.std(v_arr)/np.sqrt(90000*5)\n",
    "print(f'the average energy is: {avg_v} +- {err}')"
   ]
  },
  {
   "cell_type": "code",
   "execution_count": 72,
   "metadata": {},
   "outputs": [],
   "source": [
    "qmc_chain = states2array(qmc_rosenbrock_trace)"
   ]
  },
  {
   "cell_type": "code",
   "execution_count": 73,
   "metadata": {},
   "outputs": [
    {
     "data": {
      "image/png": "[encoded data removed]",
      "text/plain": [
       "<Figure size 550x550 with 4 Axes>"
      ]
     },
     "metadata": {},
     "output_type": "display_data"
    }
   ],
   "source": [
    "# visulize the sampled density\n",
    "'''\n",
    "qmc_chain = []\n",
    "for i in range(90000):\n",
    "    for j in range(5):\n",
    "        x1, x2 = qmc_rosenbrock_trace[i, j].p\n",
    "        qmc_chain.append([x1, x2])\n",
    "'''\n",
    "fig = corner.corner(\n",
    "    np.array(qmc_chain), quantiles=[0.16, 0.5, 0.84],\n",
    "    labels=[\n",
    "        r\"$x_{1}$\",\n",
    "        r\"$x_{2}$\",\n",
    "    ]\n",
    ")"
   ]
  },
  {
   "cell_type": "code",
   "execution_count": 74,
   "metadata": {},
   "outputs": [],
   "source": [
    "# compare with rosenbrock density sampled with emcee\n",
    "import emcee\n",
    "emcee_trace = []\n",
    "\n",
    "for i in range(1):\n",
    "    # Here we'll set up the computation. emcee combines multiple \"walkers\",\n",
    "    # each of which is its own MCMC chain. The number of trace results will\n",
    "    # be nwalkers * nsteps\n",
    "\n",
    "    ndim = 2  # number of parameters in the model\n",
    "    nwalkers = 5  # number of MCMC walkers\n",
    "    nburn = 10000 # \"burn-in\" period to let chains stabilize\n",
    "    nsteps = 100000  # number of MCMC steps to take\n",
    "\n",
    "    # set theta near the maximum likelihood, with\n",
    "    starting_guesses = np.random.random((nwalkers, ndim))\n",
    "\n",
    "    # Here's the function call where all the work happens:\n",
    "    # we'll time it using IPython's %time magic\n",
    "\n",
    "    sampler = emcee.EnsembleSampler(nwalkers, ndim, rosenbrock_lnp)\n",
    "    sampler.run_mcmc(starting_guesses, nsteps)\n",
    "    emcee_trace.append(sampler.chain[:, nburn:, :].reshape(-1, ndim))\n",
    "\n",
    "emcee_trace = np.array(emcee_trace)"
   ]
  },
  {
   "cell_type": "code",
   "execution_count": 75,
   "metadata": {},
   "outputs": [
    {
     "name": "stdout",
     "output_type": "stream",
     "text": [
      "(1, 450000, 2)\n"
     ]
    }
   ],
   "source": [
    "print(np.shape(emcee_trace))"
   ]
  },
  {
   "cell_type": "code",
   "execution_count": 76,
   "metadata": {},
   "outputs": [
    {
     "name": "stdout",
     "output_type": "stream",
     "text": [
      "-1.0035980429940745\n"
     ]
    }
   ],
   "source": [
    "v_arr = []\n",
    "for i in range(450000):\n",
    "    params = emcee_trace[0, i, :]\n",
    "    v_arr.append(rosenbrock_lnp(params))\n",
    "print(np.mean(v_arr))"
   ]
  },
  {
   "cell_type": "code",
   "execution_count": 77,
   "metadata": {},
   "outputs": [
    {
     "data": {
      "image/png": "[encoded data removed]",
      "text/plain": [
       "<Figure size 550x550 with 4 Axes>"
      ]
     },
     "metadata": {},
     "output_type": "display_data"
    }
   ],
   "source": [
    "fig = corner.corner(\n",
    "    sampler.get_chain(flat=True), quantiles=[0.16, 0.5, 0.84],\n",
    "    labels=[\n",
    "        r\"$x_{1}$\",\n",
    "        r\"$x_{2}$\",\n",
    "    ]\n",
    ")"
   ]
  }
 ],
 "metadata": {
  "kernelspec": {
   "display_name": "Python 3",
   "language": "python",
   "name": "python3"
  },
  "language_info": {
   "codemirror_mode": {
    "name": "ipython",
    "version": 3
   },
   "file_extension": ".py",
   "mimetype": "text/x-python",
   "name": "python",
   "nbconvert_exporter": "python",
   "pygments_lexer": "ipython3",
   "version": "3.11.5"
  }
 },
 "nbformat": 4,
 "nbformat_minor": 2
}
