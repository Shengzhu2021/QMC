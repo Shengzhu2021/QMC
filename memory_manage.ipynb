{
 "cells": [
  {
   "cell_type": "code",
   "execution_count": 5,
   "metadata": {},
   "outputs": [],
   "source": [
    "from quadratic_monte_carlo import *\n",
    "from state import *\n",
    "import corner"
   ]
  },
  {
   "cell_type": "code",
   "execution_count": 6,
   "metadata": {},
   "outputs": [],
   "source": [
    "def harmonic_lnp(params):\n",
    "    n = len(params)\n",
    "    v = 0\n",
    "    for j in range(n):\n",
    "        v += params[j] * params[j]\n",
    "    return -(v / 0.01) "
   ]
  },
  {
   "cell_type": "code",
   "execution_count": 23,
   "metadata": {},
   "outputs": [],
   "source": [
    "# using harmonic states as an example\n",
    "# define a QMCState that is a 6-dimensional harmonic oscillator\n",
    "harmonic_state = QMCState(6, harmonic_lnp, np.zeros(6)) # setup the QMCState\n",
    "\n",
    "# setup simulation parameters\n",
    "ndim = 6  # number of parameters in the model\n",
    "nwalkers = 20  # number of MCMC walkers\n",
    "nburn = 10000  # \"burn-in\" period to let chains stabilize\n",
    "nsteps = 100000 # number of MCMC steps to take\n",
    "\n",
    "# setup starting guesses randomly\n",
    "sg = np.random.random((nwalkers, ndim))\n",
    "#starting_guesses = set_up_starting_guesses(harmonic_state, sg)\n",
    "\n",
    "# setup sampler and run mcmc\n",
    "sampler = QMCSampler(nwalkers, harmonic_state, gaussian=True, toFile=True)\n",
    "sampler.run_qmc(sg, nsteps)\n",
    "\n",
    "# get the trace after the chain stablizes\n",
    "qmc_harmonic_trace = sampler.get_chain()[nburn+nwalkers:, :]"
   ]
  },
  {
   "cell_type": "code",
   "execution_count": 24,
   "metadata": {},
   "outputs": [
    {
     "name": "stdout",
     "output_type": "stream",
     "text": [
      "(1990000, 6)\n"
     ]
    }
   ],
   "source": [
    "print(np.shape(qmc_harmonic_trace))"
   ]
  },
  {
   "cell_type": "code",
   "execution_count": 25,
   "metadata": {},
   "outputs": [
    {
     "name": "stdout",
     "output_type": "stream",
     "text": [
      "the average energy is: 0.030079722752058367 +- 1.2941319911024709e-05\n"
     ]
    }
   ],
   "source": [
    "v_arr = []\n",
    "\n",
    "for i in range(len(qmc_harmonic_trace)):\n",
    "    v = -harmonic_lnp(qmc_harmonic_trace[i])*0.01\n",
    "    v_arr.append(v)\n",
    "avg_v = np.mean(v_arr)\n",
    "err = np.std(v_arr)/np.sqrt(90000*20)\n",
    "print(f'the average energy is: {avg_v} +- {err}')"
   ]
  },
  {
   "cell_type": "code",
   "execution_count": null,
   "metadata": {},
   "outputs": [],
   "source": []
  }
 ],
 "metadata": {
  "kernelspec": {
   "display_name": "Python 3",
   "language": "python",
   "name": "python3"
  },
  "language_info": {
   "codemirror_mode": {
    "name": "ipython",
    "version": 3
   },
   "file_extension": ".py",
   "mimetype": "text/x-python",
   "name": "python",
   "nbconvert_exporter": "python",
   "pygments_lexer": "ipython3",
   "version": "3.11.5"
  }
 },
 "nbformat": 4,
 "nbformat_minor": 2
}
